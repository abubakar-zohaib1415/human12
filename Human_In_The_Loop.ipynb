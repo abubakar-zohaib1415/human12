{
  "nbformat": 4,
  "nbformat_minor": 0,
  "metadata": {
    "colab": {
      "provenance": [],
      "authorship_tag": "ABX9TyPvAXqFu/TUlhCH4o0DDxeU",
      "include_colab_link": true
    },
    "kernelspec": {
      "name": "python3",
      "display_name": "Python 3"
    },
    "language_info": {
      "name": "python"
    }
  },
  "cells": [
    {
      "cell_type": "markdown",
      "metadata": {
        "id": "view-in-github",
        "colab_type": "text"
      },
      "source": [
        "<a href=\"https://colab.research.google.com/github/abubakar-zohaib1415/human12/blob/main/Human_In_The_Loop.ipynb\" target=\"_parent\"><img src=\"https://colab.research.google.com/assets/colab-badge.svg\" alt=\"Open In Colab\"/></a>"
      ]
    },
    {
      "cell_type": "code",
      "execution_count": 5,
      "metadata": {
        "id": "5DjbgfRZ-ymq"
      },
      "outputs": [],
      "source": [
        "%pip install -q -U langgraph langchain_google_genai"
      ]
    },
    {
      "cell_type": "code",
      "source": [
        "from langchain_core.messages import AIMessage, HumanMessage, SystemMessage, trim_messages\n",
        "from langgraph.checkpoint.memory import MemorySaver\n",
        "from langgraph.graph import START, MessagesState, StateGraph\n",
        "from langchain_google_genai import ChatGoogleGenerativeAI\n",
        "from google.colab import userdata\n",
        "\n",
        "# Setup API key for Google Generative AI\n",
        "GEMINI_API_KEY = userdata.get('GEMINI_API_KEY')\n",
        "\n",
        "# Initialize the LLM\n",
        "llm = ChatGoogleGenerativeAI(\n",
        "    model=\"gemini-1.5-flash\",\n",
        "    api_key=GEMINI_API_KEY\n",
        ")\n",
        "\n",
        "# Define trimmer\n",
        "trimmer = trim_messages(strategy=\"last\", max_tokens=5, token_counter=len)\n",
        "\n",
        "# Define the workflow\n",
        "workflow = StateGraph(state_schema=MessagesState)\n",
        "\n",
        "# Define the function that calls the model\n",
        "def call_model(state: MessagesState):\n",
        "    trimmed_messages = trimmer.invoke(state[\"messages\"])\n",
        "    system_prompt = (\n",
        "        \"You Are A Helpfull Assistant for Clothe E-commerce Customer Support Agent. \"\n",
        "        \"You Need To Answer Like You Are A ShopKeeper Of Clothe Shop, how clothe shop act, just act like it. \"\n",
        "        \"For example: if I say 'Hi, Hello, My name is [Name]', answer greetings. If somebody says 'I want a [product] in [size]', say \"\n",
        "        \"'Can I Connect You To A Human Assistant?' wait for a response, and if they say 'yes', respond with: \"\n",
        "        \"'Connecting ... To Human Assistant', and then answer like a normal shopkeeper.\"\n",
        "    )\n",
        "    messages = [SystemMessage(content=system_prompt)] + trimmed_messages\n",
        "    response = llm.invoke(messages)\n",
        "    return {\"messages\": response}\n",
        "\n",
        "# Add node and edge to workflow\n",
        "workflow.add_node(\"model\", call_model)\n",
        "workflow.add_edge(START, \"model\")\n",
        "\n",
        "# Add in-memory checkpointing\n",
        "memory = MemorySaver()\n",
        "app = workflow.compile(checkpointer=memory)\n",
        "\n",
        "# Chat interaction loop\n",
        "print(\"Welcome to Clothes Customer Support. Type 'exit' to end the chat.\")\n",
        "\n",
        "messages = []\n",
        "while True:\n",
        "    # Get user input\n",
        "    user_input = input(\"You: \")\n",
        "    if user_input.lower() == \"exit\":\n",
        "        print(\"Assistant: Goodbye!\")\n",
        "        break\n",
        "\n",
        "    # Add user's message to history\n",
        "    messages.append(HumanMessage(content=user_input))\n",
        "\n",
        "    # Invoke the app\n",
        "    response = app.invoke({\"messages\": messages}, config={\"configurable\": {\"thread_id\": \"chat-session\"}})\n",
        "\n",
        "    # Get AI response\n",
        "    ai_response = response[\"messages\"][-1].content\n",
        "    print(f\"Assistant: {ai_response}\")\n",
        "\n",
        "    # Add AI's response to the history\n",
        "    messages.append(AIMessage(content=ai_response))\n"
      ],
      "metadata": {
        "colab": {
          "base_uri": "https://localhost:8080/"
        },
        "id": "HuEPeIOHmIM3",
        "outputId": "506f42d4-59e3-44f9-9d2b-4ae7c9d206be"
      },
      "execution_count": 79,
      "outputs": [
        {
          "output_type": "stream",
          "name": "stdout",
          "text": [
            "Welcome to Clothes Customer Support. Type 'exit' to end the chat.\n",
            "You: hello\n",
            "Assistant: Well hello there!  What can I get for you today?\n",
            "\n",
            "You: exit\n",
            "Assistant: Goodbye!\n"
          ]
        }
      ]
    }
  ]
}