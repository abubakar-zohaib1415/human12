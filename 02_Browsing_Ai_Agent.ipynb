{
  "nbformat": 4,
  "nbformat_minor": 0,
  "metadata": {
    "colab": {
      "provenance": [],
      "authorship_tag": "ABX9TyO0wXlUn3IdZA1Fz7xJmNzh",
      "include_colab_link": true
    },
    "kernelspec": {
      "name": "python3",
      "display_name": "Python 3"
    },
    "language_info": {
      "name": "python"
    }
  },
  "cells": [
    {
      "cell_type": "markdown",
      "metadata": {
        "id": "view-in-github",
        "colab_type": "text"
      },
      "source": [
        "<a href=\"https://colab.research.google.com/github/abubakar-zohaib1415/human12/blob/main/02_Browsing_Ai_Agent.ipynb\" target=\"_parent\"><img src=\"https://colab.research.google.com/assets/colab-badge.svg\" alt=\"Open In Colab\"/></a>"
      ]
    },
    {
      "cell_type": "code",
      "source": [
        "%pip install --upgrade --quiet -q -U langchain-community langchain-openai tavily-python langgraph google-cloud\n"
      ],
      "metadata": {
        "colab": {
          "base_uri": "https://localhost:8080/"
        },
        "id": "1nc1YyKap3Cf",
        "outputId": "701ac19b-1c25-46ed-dee1-8e92a86d6053"
      },
      "execution_count": null,
      "outputs": [
        {
          "output_type": "stream",
          "name": "stdout",
          "text": [
            "\u001b[2K   \u001b[90m━━━━━━━━━━━━━━━━━━━━━━━━━━━━━━━━━━━━━━━━\u001b[0m \u001b[32m2.5/2.5 MB\u001b[0m \u001b[31m28.9 MB/s\u001b[0m eta \u001b[36m0:00:00\u001b[0m\n",
            "\u001b[2K   \u001b[90m━━━━━━━━━━━━━━━━━━━━━━━━━━━━━━━━━━━━━━━━\u001b[0m \u001b[32m50.9/50.9 kB\u001b[0m \u001b[31m3.8 MB/s\u001b[0m eta \u001b[36m0:00:00\u001b[0m\n",
            "\u001b[2K   \u001b[90m━━━━━━━━━━━━━━━━━━━━━━━━━━━━━━━━━━━━━━━━\u001b[0m \u001b[32m1.0/1.0 MB\u001b[0m \u001b[31m42.4 MB/s\u001b[0m eta \u001b[36m0:00:00\u001b[0m\n",
            "\u001b[2K   \u001b[90m━━━━━━━━━━━━━━━━━━━━━━━━━━━━━━━━━━━━━━━━\u001b[0m \u001b[32m411.6/411.6 kB\u001b[0m \u001b[31m27.5 MB/s\u001b[0m eta \u001b[36m0:00:00\u001b[0m\n",
            "\u001b[2K   \u001b[90m━━━━━━━━━━━━━━━━━━━━━━━━━━━━━━━━━━━━━━━━\u001b[0m \u001b[32m454.3/454.3 kB\u001b[0m \u001b[31m23.2 MB/s\u001b[0m eta \u001b[36m0:00:00\u001b[0m\n",
            "\u001b[2K   \u001b[90m━━━━━━━━━━━━━━━━━━━━━━━━━━━━━━━━━━━━━━━━\u001b[0m \u001b[32m49.3/49.3 kB\u001b[0m \u001b[31m3.4 MB/s\u001b[0m eta \u001b[36m0:00:00\u001b[0m\n",
            "\u001b[?25h"
          ]
        }
      ]
    },
    {
      "cell_type": "code",
      "source": [
        "from langgraph.graph import START, END, StateGraph\n",
        "from langgraph.graph.state import CompiledStateGraph\n",
        "from tavily import TavilyClient\n",
        "from typing_extensions import TypedDict\n",
        "from google.colab import userdata\n",
        "from langchain_core.messages.ai import AIMessage"
      ],
      "metadata": {
        "id": "GuKpGJC7qEI4"
      },
      "execution_count": null,
      "outputs": []
    },
    {
      "cell_type": "code",
      "source": [
        "class MessageState(TypedDict):\n",
        "  prompt : str\n",
        "  output : str"
      ],
      "metadata": {
        "id": "ro7SQj6xvEDe"
      },
      "execution_count": null,
      "outputs": []
    },
    {
      "cell_type": "code",
      "source": [
        "tavily = TavilyClient(api_key=userdata.get('TAVILY_API_KEY'))"
      ],
      "metadata": {
        "id": "E2H5Na7Cvkfe"
      },
      "execution_count": null,
      "outputs": []
    },
    {
      "cell_type": "code",
      "source": [
        "def Chatbot(state:MessageState):\n",
        "  print(\"--- Chatbot ---\", state)\n",
        "  prompt = state['prompt']\n",
        "  ai_msg : AIMessage = tavily.get_search_context(prompt)\n",
        "  return {\"output\": ai_msg}\n",
        "\n",
        "  greet_message =  Chatbot(MessageState(prompt=\"Hello I want a Bmw New Model in Karachi\"))\n",
        "  print(greet_message)"
      ],
      "metadata": {
        "id": "dAp6wCsqvMrf"
      },
      "execution_count": null,
      "outputs": []
    },
    {
      "cell_type": "code",
      "source": [
        "from IPython.display import Image, display\n",
        "\n",
        "builder: StateGraph = StateGraph(state_schema=MessageState)\n",
        "\n",
        "\n",
        "builder.add_node(\"Chatbot\", Chatbot)\n",
        "\n",
        "\n",
        "builder.add_edge(START, \"Chatbot\")\n",
        "builder.add_edge(\"Chatbot\", END)\n",
        "\n",
        "\n",
        "graph: CompiledStateGraph = builder.compile()"
      ],
      "metadata": {
        "id": "65tKuHCAwvWo"
      },
      "execution_count": null,
      "outputs": []
    },
    {
      "cell_type": "code",
      "source": [
        "display(Image(graph.get_graph().draw_mermaid_png()))"
      ],
      "metadata": {
        "colab": {
          "base_uri": "https://localhost:8080/",
          "height": 251
        },
        "id": "UArPHNqiw7dO",
        "outputId": "532d3dda-c574-490f-9cb0-a4bb22606fc6"
      },
      "execution_count": null,
      "outputs": [
        {
          "output_type": "display_data",
          "data": {
            "image/png": "[encoded data removed]",
            "text/plain": [
              "<IPython.core.display.Image object>"
            ]
          },
          "metadata": {}
        }
      ]
    },
    {
      "cell_type": "code",
      "source": [
        "user_input = input(\"Welcome\")\n",
        "result = graph.invoke({\"prompt\" : f\"{user_input}\"})"
      ],
      "metadata": {
        "colab": {
          "base_uri": "https://localhost:8080/"
        },
        "id": "gL6mU_Gmw_AR",
        "outputId": "5d57014f-fc49-4ea6-992a-6275c1884714"
      },
      "execution_count": null,
      "outputs": [
        {
          "output_type": "stream",
          "name": "stdout",
          "text": [
            "WelcomeI want bmw\n",
            "--- Chatbot --- {'prompt': 'I want bmw'}\n"
          ]
        }
      ]
    },
    {
      "cell_type": "code",
      "source": [
        "print(result.__dict__)"
      ],
      "metadata": {
        "colab": {
          "base_uri": "https://localhost:8080/"
        },
        "id": "ABf5zN_MxRWn",
        "outputId": "6c258d3e-b829-4425-c6db-cafa0d5d4d62"
      },
      "execution_count": null,
      "outputs": [
        {
          "output_type": "stream",
          "name": "stdout",
          "text": [
            "{}\n"
          ]
        }
      ]
    },
    {
      "cell_type": "code",
      "source": [
        "import pprint\n",
        "\n",
        "# Pretty-print the entire result\n",
        "pprint.pprint(result)\n",
        "\n",
        "# If it's a dictionary, you can also do this:\n",
        "pprint.pprint(result)  # Assuming result.query is a dictionary or a nested object\n"
      ],
      "metadata": {
        "colab": {
          "base_uri": "https://localhost:8080/"
        },
        "id": "hdd4lHBXzYEP",
        "outputId": "7818d037-562d-4dbd-b60d-57c387803ef4"
      },
      "execution_count": null,
      "outputs": [
        {
          "output_type": "stream",
          "name": "stdout",
          "text": [
            "{'output': '\"[\\\\\"{\\\\\\\\\\\\\"url\\\\\\\\\\\\\": '\n",
            "           '\\\\\\\\\\\\\"https://www.billjacobsbmw.com/how-to-pre-order-your-bmw-from-the-factory/\\\\\\\\\\\\\", '\n",
            "           '\\\\\\\\\\\\\"content\\\\\\\\\\\\\": \\\\\\\\\\\\\"2. Pre-Order Your BMW. After you '\n",
            "           'select the BMW model you want, visit our dealership to pre-order '\n",
            "           'your BMW. We will stay in touch with you after your BMW is '\n",
            "           'ordered. After your BMW order is placed, we will walk you through '\n",
            "           'how to track your BMW order. Your new BMW will arrive anywhere '\n",
            "           'from 4 - 8 weeks, depending on the exact BMW you '\n",
            "           'ordered.\\\\\\\\\\\\\"}\\\\\", \\\\\"{\\\\\\\\\\\\\"url\\\\\\\\\\\\\": '\n",
            "           '\\\\\\\\\\\\\"https://www.bmwusa.com/\\\\\\\\\\\\\", \\\\\\\\\\\\\"content\\\\\\\\\\\\\": '\n",
            "           '\\\\\\\\\\\\\"Explore models, build your own, and find local inventory '\n",
            "           'from a nearby BMW Center. Experience the performance, luxury, and '\n",
            "           'innovation of the Ultimate Driving Machine today.\\\\\\\\\\\\\"}\\\\\", '\n",
            "           '\\\\\"{\\\\\\\\\\\\\"url\\\\\\\\\\\\\": '\n",
            "           '\\\\\\\\\\\\\"https://www.bmwblog.com/2022/01/10/which-bmw-first-time-owner/\\\\\\\\\\\\\", '\n",
            "           '\\\\\\\\\\\\\"content\\\\\\\\\\\\\": \\\\\\\\\\\\\"bmw x3 The X3 starts about $2,000 '\n",
            "           'higher than a base 330i, and you get more for the money - more '\n",
            "           'ground clearance, more storage space, more visibility, and more '\n",
            "           'interior seating room.\\\\\\\\\\\\\"}\\\\\", \\\\\"{\\\\\\\\\\\\\"url\\\\\\\\\\\\\": '\n",
            "           '\\\\\\\\\\\\\"https://www.bmwstore.com/buy-online/\\\\\\\\\\\\\", '\n",
            "           '\\\\\\\\\\\\\"content\\\\\\\\\\\\\": \\\\\\\\\\\\\"Benefits of shopping BMW models at '\n",
            "           'The BMW Store include: World-Class Warranty: Including a Limited '\n",
            "           'Warranty for all new vehicles for 4 years or 50,000 miles! '\n",
            "           'Roadside Assistance: BMW Ultimate Care is included with new BMW '\n",
            "           'purchases and provides emergency roadside assistance 24/7, '\n",
            "           'benefiting for the first four years of ownership. BMW Ultimate '\n",
            "           'Care & Unlimited Care+: Coverage included for\\\\\\\\\\\\\"}\\\\\", '\n",
            "           '\\\\\"{\\\\\\\\\\\\\"url\\\\\\\\\\\\\": '\n",
            "           '\\\\\\\\\\\\\"https://www.bmwofmountainview.com/\\\\\\\\\\\\\", '\n",
            "           '\\\\\\\\\\\\\"content\\\\\\\\\\\\\": \\\\\\\\\\\\\"San Jose BMW Dealership Are you '\n",
            "           'searching for a \\\\\\\\\\\\\\\\\\\\\\\\\\\\\"bmw dealership near '\n",
            "           'me\\\\\\\\\\\\\\\\\\\\\\\\\\\\\"? BMW of Mountain View is your local BMW dealer '\n",
            "           'serving the Mountain View, Palo Alto, Cupertino, and San Jose '\n",
            "           'areas. Whether you are interested in getting behind the wheel of a '\n",
            "           'new or used BMW or need to service your current vehicle, our '\n",
            "           'friendly and knowledgeable team members are here to '\n",
            "           'help.\\\\\\\\\\\\\"}\\\\\"]\"',\n",
            " 'prompt': 'I want bmw'}\n",
            "{'output': '\"[\\\\\"{\\\\\\\\\\\\\"url\\\\\\\\\\\\\": '\n",
            "           '\\\\\\\\\\\\\"https://www.billjacobsbmw.com/how-to-pre-order-your-bmw-from-the-factory/\\\\\\\\\\\\\", '\n",
            "           '\\\\\\\\\\\\\"content\\\\\\\\\\\\\": \\\\\\\\\\\\\"2. Pre-Order Your BMW. After you '\n",
            "           'select the BMW model you want, visit our dealership to pre-order '\n",
            "           'your BMW. We will stay in touch with you after your BMW is '\n",
            "           'ordered. After your BMW order is placed, we will walk you through '\n",
            "           'how to track your BMW order. Your new BMW will arrive anywhere '\n",
            "           'from 4 - 8 weeks, depending on the exact BMW you '\n",
            "           'ordered.\\\\\\\\\\\\\"}\\\\\", \\\\\"{\\\\\\\\\\\\\"url\\\\\\\\\\\\\": '\n",
            "           '\\\\\\\\\\\\\"https://www.bmwusa.com/\\\\\\\\\\\\\", \\\\\\\\\\\\\"content\\\\\\\\\\\\\": '\n",
            "           '\\\\\\\\\\\\\"Explore models, build your own, and find local inventory '\n",
            "           'from a nearby BMW Center. Experience the performance, luxury, and '\n",
            "           'innovation of the Ultimate Driving Machine today.\\\\\\\\\\\\\"}\\\\\", '\n",
            "           '\\\\\"{\\\\\\\\\\\\\"url\\\\\\\\\\\\\": '\n",
            "           '\\\\\\\\\\\\\"https://www.bmwblog.com/2022/01/10/which-bmw-first-time-owner/\\\\\\\\\\\\\", '\n",
            "           '\\\\\\\\\\\\\"content\\\\\\\\\\\\\": \\\\\\\\\\\\\"bmw x3 The X3 starts about $2,000 '\n",
            "           'higher than a base 330i, and you get more for the money - more '\n",
            "           'ground clearance, more storage space, more visibility, and more '\n",
            "           'interior seating room.\\\\\\\\\\\\\"}\\\\\", \\\\\"{\\\\\\\\\\\\\"url\\\\\\\\\\\\\": '\n",
            "           '\\\\\\\\\\\\\"https://www.bmwstore.com/buy-online/\\\\\\\\\\\\\", '\n",
            "           '\\\\\\\\\\\\\"content\\\\\\\\\\\\\": \\\\\\\\\\\\\"Benefits of shopping BMW models at '\n",
            "           'The BMW Store include: World-Class Warranty: Including a Limited '\n",
            "           'Warranty for all new vehicles for 4 years or 50,000 miles! '\n",
            "           'Roadside Assistance: BMW Ultimate Care is included with new BMW '\n",
            "           'purchases and provides emergency roadside assistance 24/7, '\n",
            "           'benefiting for the first four years of ownership. BMW Ultimate '\n",
            "           'Care & Unlimited Care+: Coverage included for\\\\\\\\\\\\\"}\\\\\", '\n",
            "           '\\\\\"{\\\\\\\\\\\\\"url\\\\\\\\\\\\\": '\n",
            "           '\\\\\\\\\\\\\"https://www.bmwofmountainview.com/\\\\\\\\\\\\\", '\n",
            "           '\\\\\\\\\\\\\"content\\\\\\\\\\\\\": \\\\\\\\\\\\\"San Jose BMW Dealership Are you '\n",
            "           'searching for a \\\\\\\\\\\\\\\\\\\\\\\\\\\\\"bmw dealership near '\n",
            "           'me\\\\\\\\\\\\\\\\\\\\\\\\\\\\\"? BMW of Mountain View is your local BMW dealer '\n",
            "           'serving the Mountain View, Palo Alto, Cupertino, and San Jose '\n",
            "           'areas. Whether you are interested in getting behind the wheel of a '\n",
            "           'new or used BMW or need to service your current vehicle, our '\n",
            "           'friendly and knowledgeable team members are here to '\n",
            "           'help.\\\\\\\\\\\\\"}\\\\\"]\"',\n",
            " 'prompt': 'I want bmw'}\n"
          ]
        }
      ]
    }
  ]
}